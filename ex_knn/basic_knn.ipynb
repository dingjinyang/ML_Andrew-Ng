{
 "metadata": {
  "language_info": {
   "codemirror_mode": {
    "name": "ipython",
    "version": 3
   },
   "file_extension": ".py",
   "mimetype": "text/x-python",
   "name": "python",
   "nbconvert_exporter": "python",
   "pygments_lexer": "ipython3",
   "version": "3.8.3-final"
  },
  "orig_nbformat": 2,
  "kernelspec": {
   "name": "python3",
   "display_name": "Python 3"
  }
 },
 "nbformat": 4,
 "nbformat_minor": 2,
 "cells": [
  {
   "source": [
    "# KNN\n",
    "\n",
    "## 基本思路"
   ],
   "cell_type": "markdown",
   "metadata": {}
  },
  {
   "source": [
    "import numpy as np"
   ],
   "cell_type": "code",
   "metadata": {},
   "execution_count": 1,
   "outputs": []
  },
  {
   "cell_type": "code",
   "execution_count": 2,
   "metadata": {},
   "outputs": [
    {
     "output_type": "execute_result",
     "data": {
      "text/plain": [
       "(array([[  1, 101],\n",
       "        [  5,  89],\n",
       "        [108,   5],\n",
       "        [115,   8]]),\n",
       " array(['love', 'love', 'action', 'action'], dtype='<U6'))"
      ]
     },
     "metadata": {},
     "execution_count": 2
    }
   ],
   "source": [
    "def create_dataset():\n",
    "    \"\"\"\n",
    "    自定义数据集\n",
    "    \"\"\"\n",
    "    data = np.array([[1, 101], [5, 89], [108, 5], [115, 8]])\n",
    "    label = np.array(['love', 'love', 'action', 'action'])\n",
    "    return data, label\n",
    "create_dataset()"
   ]
  },
  {
   "source": [
    "根据两点间的距离公式计算两点间的距离，选择前 $k$ 个距离最近的点，决定分类结果并返回"
   ],
   "cell_type": "markdown",
   "metadata": {}
  },
  {
   "cell_type": "code",
   "execution_count": 3,
   "metadata": {},
   "outputs": [],
   "source": [
    "# 创建数据集 和 测试集\n",
    "X, y = create_dataset()\n",
    "k = 3\n",
    "testset = [101, 20]"
   ]
  },
  {
   "cell_type": "code",
   "execution_count": 4,
   "metadata": {},
   "outputs": [
    {
     "output_type": "execute_result",
     "data": {
      "text/plain": [
       "array([[100, -81],\n",
       "       [ 96, -69],\n",
       "       [ -7,  15],\n",
       "       [-14,  12]])"
      ]
     },
     "metadata": {},
     "execution_count": 4
    }
   ],
   "source": [
    "diff = np.tile(testset, (X.shape[0], 1)) - X\n",
    "diff "
   ]
  },
  {
   "cell_type": "code",
   "execution_count": 5,
   "metadata": {},
   "outputs": [
    {
     "output_type": "execute_result",
     "data": {
      "text/plain": [
       "array([128.68954892, 118.22436297,  16.55294536,  18.43908891])"
      ]
     },
     "metadata": {},
     "execution_count": 5
    }
   ],
   "source": [
    "# 测试数据与数据集的距离\n",
    "dist = np.sum(diff ** 2, axis=1) ** 0.5\n",
    "dist"
   ]
  },
  {
   "cell_type": "code",
   "execution_count": 6,
   "metadata": {},
   "outputs": [],
   "source": [
    "sorted_dist_idx = dist.argsort() # 排序后的索引值"
   ]
  },
  {
   "source": [
    "选出距离最近的 $k$ 个点的类别，通过投票的方式决定最终类别"
   ],
   "cell_type": "markdown",
   "metadata": {}
  },
  {
   "cell_type": "code",
   "execution_count": 7,
   "metadata": {},
   "outputs": [
    {
     "output_type": "execute_result",
     "data": {
      "text/plain": [
       "'action'"
      ]
     },
     "metadata": {},
     "execution_count": 7
    }
   ],
   "source": [
    "class_count = dict()\n",
    "for i in range(k):\n",
    "    vote = y[sorted_dist_idx[i]]\n",
    "    class_count[vote] = class_count.get(vote, 0) + 1\n",
    "sorted_class_count = sorted(class_count.items(), key=lambda x:x[1], reverse=True)\n",
    "sorted_class_count[0][0]"
   ]
  },
  {
   "cell_type": "code",
   "execution_count": 8,
   "metadata": {},
   "outputs": [
    {
     "output_type": "execute_result",
     "data": {
      "text/plain": [
       "'action'"
      ]
     },
     "metadata": {},
     "execution_count": 8
    }
   ],
   "source": [
    "def basic_knn_classify(X, y, test, k=3):\n",
    "    diff = np.tile(testset, (X.shape[0], 1)) - X\n",
    "    dist = np.sum(diff ** 2, axis=1) ** 0.5\n",
    "    sorted_dist_idx = dist.argsort()\n",
    "    class_count = dict()\n",
    "    for i in range(k):\n",
    "        vote = y[sorted_dist_idx[i]]\n",
    "        class_count[vote] = class_count.get(vote, 0) + 1\n",
    "    sorted_class_count = sorted(class_count.items(), key=lambda x:x[1], reverse=True)\n",
    "    return sorted_class_count[0][0]\n",
    "\n",
    "basic_knn_classify(X, y, [101, 20])"
   ]
  },
  {
   "cell_type": "code",
   "execution_count": null,
   "metadata": {},
   "outputs": [],
   "source": []
  }
 ]
}